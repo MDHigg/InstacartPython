{
 "cells": [
  {
   "cell_type": "markdown",
   "id": "041eb002",
   "metadata": {},
   "source": [
    "# 4.10: Regional Analysis\n",
    "\n",
    "\n",
    "## 03  Create a “Region” column based on the “State” column\n",
    "## 04 Create an exclusion flag for low-activity customers (<5 orders = Low activity)"
   ]
  },
  {
   "cell_type": "markdown",
   "id": "33820320",
   "metadata": {},
   "source": [
    "## IMPORTING LIBRARIES AND DATAFRAME"
   ]
  },
  {
   "cell_type": "code",
   "execution_count": 2,
   "id": "fa8d5842",
   "metadata": {},
   "outputs": [],
   "source": [
    "import pandas as pd\n",
    "import numpy as np\n",
    "import os\n",
    "import matplotlib.pyplot as plt\n",
    "import seaborn as sns\n",
    "import scipy\n",
    "import math\n",
    "from matplotlib.ticker import StrMethodFormatter"
   ]
  },
  {
   "cell_type": "code",
   "execution_count": 20,
   "id": "789152e7",
   "metadata": {},
   "outputs": [],
   "source": [
    "# import dataframe\n",
    "\n",
    "pathData = r'C:\\Users\\Michael\\Desktop\\Career Foundry\\02 Data Immersion Course\\04 Python Fundamentals for Data Analysts\\Instacart Basket Analysis 2023 11'\n",
    "ords_prods_merge = pd.read_pickle(os.path.join(pathData, '02 Data', 'Prepared Data', 'ords_prods_cust.pkl'))"
   ]
  },
  {
   "cell_type": "markdown",
   "id": "2ce32de9",
   "metadata": {},
   "source": [
    "## CHECKING DF DETAILS"
   ]
  },
  {
   "cell_type": "code",
   "execution_count": 6,
   "id": "703e65c4",
   "metadata": {},
   "outputs": [
    {
     "data": {
      "text/html": [
       "<div>\n",
       "<style scoped>\n",
       "    .dataframe tbody tr th:only-of-type {\n",
       "        vertical-align: middle;\n",
       "    }\n",
       "\n",
       "    .dataframe tbody tr th {\n",
       "        vertical-align: top;\n",
       "    }\n",
       "\n",
       "    .dataframe thead th {\n",
       "        text-align: right;\n",
       "    }\n",
       "</style>\n",
       "<table border=\"1\" class=\"dataframe\">\n",
       "  <thead>\n",
       "    <tr style=\"text-align: right;\">\n",
       "      <th></th>\n",
       "      <th>order_id</th>\n",
       "      <th>user_id</th>\n",
       "      <th>order_number</th>\n",
       "      <th>orders_day_of_week</th>\n",
       "      <th>order_hour_of_day</th>\n",
       "      <th>days_since_last_order</th>\n",
       "      <th>product_id</th>\n",
       "      <th>add_to_cart_order</th>\n",
       "      <th>reordered</th>\n",
       "      <th>product_name</th>\n",
       "      <th>...</th>\n",
       "      <th>mean_spend</th>\n",
       "      <th>order_frequency</th>\n",
       "      <th>order_frequency_flag</th>\n",
       "      <th>Gender</th>\n",
       "      <th>customer_state</th>\n",
       "      <th>customer_age</th>\n",
       "      <th>date_joined</th>\n",
       "      <th>customer_dependants</th>\n",
       "      <th>fam_status</th>\n",
       "      <th>customer_income</th>\n",
       "    </tr>\n",
       "  </thead>\n",
       "  <tbody>\n",
       "    <tr>\n",
       "      <th>0</th>\n",
       "      <td>2539329</td>\n",
       "      <td>1</td>\n",
       "      <td>1</td>\n",
       "      <td>2</td>\n",
       "      <td>8</td>\n",
       "      <td>NaN</td>\n",
       "      <td>196</td>\n",
       "      <td>1</td>\n",
       "      <td>0</td>\n",
       "      <td>Soda</td>\n",
       "      <td>...</td>\n",
       "      <td>Low spender</td>\n",
       "      <td>20.5</td>\n",
       "      <td>Non-frequent customer</td>\n",
       "      <td>Female</td>\n",
       "      <td>Alabama</td>\n",
       "      <td>31</td>\n",
       "      <td>2/17/2019</td>\n",
       "      <td>3</td>\n",
       "      <td>married</td>\n",
       "      <td>40423</td>\n",
       "    </tr>\n",
       "    <tr>\n",
       "      <th>1</th>\n",
       "      <td>2398795</td>\n",
       "      <td>1</td>\n",
       "      <td>2</td>\n",
       "      <td>3</td>\n",
       "      <td>7</td>\n",
       "      <td>15.0</td>\n",
       "      <td>196</td>\n",
       "      <td>1</td>\n",
       "      <td>1</td>\n",
       "      <td>Soda</td>\n",
       "      <td>...</td>\n",
       "      <td>Low spender</td>\n",
       "      <td>20.5</td>\n",
       "      <td>Non-frequent customer</td>\n",
       "      <td>Female</td>\n",
       "      <td>Alabama</td>\n",
       "      <td>31</td>\n",
       "      <td>2/17/2019</td>\n",
       "      <td>3</td>\n",
       "      <td>married</td>\n",
       "      <td>40423</td>\n",
       "    </tr>\n",
       "    <tr>\n",
       "      <th>2</th>\n",
       "      <td>473747</td>\n",
       "      <td>1</td>\n",
       "      <td>3</td>\n",
       "      <td>3</td>\n",
       "      <td>12</td>\n",
       "      <td>21.0</td>\n",
       "      <td>196</td>\n",
       "      <td>1</td>\n",
       "      <td>1</td>\n",
       "      <td>Soda</td>\n",
       "      <td>...</td>\n",
       "      <td>Low spender</td>\n",
       "      <td>20.5</td>\n",
       "      <td>Non-frequent customer</td>\n",
       "      <td>Female</td>\n",
       "      <td>Alabama</td>\n",
       "      <td>31</td>\n",
       "      <td>2/17/2019</td>\n",
       "      <td>3</td>\n",
       "      <td>married</td>\n",
       "      <td>40423</td>\n",
       "    </tr>\n",
       "    <tr>\n",
       "      <th>3</th>\n",
       "      <td>2254736</td>\n",
       "      <td>1</td>\n",
       "      <td>4</td>\n",
       "      <td>4</td>\n",
       "      <td>7</td>\n",
       "      <td>29.0</td>\n",
       "      <td>196</td>\n",
       "      <td>1</td>\n",
       "      <td>1</td>\n",
       "      <td>Soda</td>\n",
       "      <td>...</td>\n",
       "      <td>Low spender</td>\n",
       "      <td>20.5</td>\n",
       "      <td>Non-frequent customer</td>\n",
       "      <td>Female</td>\n",
       "      <td>Alabama</td>\n",
       "      <td>31</td>\n",
       "      <td>2/17/2019</td>\n",
       "      <td>3</td>\n",
       "      <td>married</td>\n",
       "      <td>40423</td>\n",
       "    </tr>\n",
       "    <tr>\n",
       "      <th>4</th>\n",
       "      <td>431534</td>\n",
       "      <td>1</td>\n",
       "      <td>5</td>\n",
       "      <td>4</td>\n",
       "      <td>15</td>\n",
       "      <td>28.0</td>\n",
       "      <td>196</td>\n",
       "      <td>1</td>\n",
       "      <td>1</td>\n",
       "      <td>Soda</td>\n",
       "      <td>...</td>\n",
       "      <td>Low spender</td>\n",
       "      <td>20.5</td>\n",
       "      <td>Non-frequent customer</td>\n",
       "      <td>Female</td>\n",
       "      <td>Alabama</td>\n",
       "      <td>31</td>\n",
       "      <td>2/17/2019</td>\n",
       "      <td>3</td>\n",
       "      <td>married</td>\n",
       "      <td>40423</td>\n",
       "    </tr>\n",
       "  </tbody>\n",
       "</table>\n",
       "<p>5 rows × 28 columns</p>\n",
       "</div>"
      ],
      "text/plain": [
       "  order_id user_id  order_number  orders_day_of_week  order_hour_of_day  \\\n",
       "0  2539329       1             1                   2                  8   \n",
       "1  2398795       1             2                   3                  7   \n",
       "2   473747       1             3                   3                 12   \n",
       "3  2254736       1             4                   4                  7   \n",
       "4   431534       1             5                   4                 15   \n",
       "\n",
       "   days_since_last_order product_id  add_to_cart_order  reordered  \\\n",
       "0                    NaN        196                  1          0   \n",
       "1                   15.0        196                  1          1   \n",
       "2                   21.0        196                  1          1   \n",
       "3                   29.0        196                  1          1   \n",
       "4                   28.0        196                  1          1   \n",
       "\n",
       "  product_name  ...   mean_spend  order_frequency   order_frequency_flag  \\\n",
       "0         Soda  ...  Low spender             20.5  Non-frequent customer   \n",
       "1         Soda  ...  Low spender             20.5  Non-frequent customer   \n",
       "2         Soda  ...  Low spender             20.5  Non-frequent customer   \n",
       "3         Soda  ...  Low spender             20.5  Non-frequent customer   \n",
       "4         Soda  ...  Low spender             20.5  Non-frequent customer   \n",
       "\n",
       "   Gender customer_state customer_age  date_joined customer_dependants  \\\n",
       "0  Female        Alabama           31    2/17/2019                   3   \n",
       "1  Female        Alabama           31    2/17/2019                   3   \n",
       "2  Female        Alabama           31    2/17/2019                   3   \n",
       "3  Female        Alabama           31    2/17/2019                   3   \n",
       "4  Female        Alabama           31    2/17/2019                   3   \n",
       "\n",
       "  fam_status  customer_income  \n",
       "0    married            40423  \n",
       "1    married            40423  \n",
       "2    married            40423  \n",
       "3    married            40423  \n",
       "4    married            40423  \n",
       "\n",
       "[5 rows x 28 columns]"
      ]
     },
     "execution_count": 6,
     "metadata": {},
     "output_type": "execute_result"
    }
   ],
   "source": [
    "ords_prods_merge.head()"
   ]
  },
  {
   "cell_type": "markdown",
   "id": "eccab5e3",
   "metadata": {},
   "source": [
    "## Checking Null for days_since_last_order and order_number match"
   ]
  },
  {
   "cell_type": "code",
   "execution_count": 4,
   "id": "0f55a352",
   "metadata": {},
   "outputs": [],
   "source": [
    "crosstab = pd.crosstab(ords_prods_merge['days_since_last_order'], ords_prods_merge['order_number'], dropna = False)\n",
    "crosstab.to_clipboard()"
   ]
  },
  {
   "cell_type": "code",
   "execution_count": 5,
   "id": "098c577b",
   "metadata": {
    "scrolled": true
   },
   "outputs": [
    {
     "data": {
      "text/plain": [
       "order_number\n",
       "1    2076096\n",
       "Name: count, dtype: int64"
      ]
     },
     "execution_count": 5,
     "metadata": {},
     "output_type": "execute_result"
    }
   ],
   "source": [
    "null_mask = ords_prods_merge.isnull().any(axis=1)\n",
    "null_rows = ords_prods_merge[null_mask]\n",
    "null_rows['order_number'].value_counts(dropna = False)"
   ]
  },
  {
   "cell_type": "markdown",
   "id": "829105db",
   "metadata": {},
   "source": [
    "Data for nulls is all match correctly with order_number = 1"
   ]
  },
  {
   "cell_type": "markdown",
   "id": "e77487fa",
   "metadata": {},
   "source": [
    "## 03  Create a “Region” column based on the “State” column"
   ]
  },
  {
   "cell_type": "code",
   "execution_count": 21,
   "id": "b97f1037",
   "metadata": {},
   "outputs": [],
   "source": [
    "# Create a vector for each of the four regions\n",
    "Northeast = ['Northeast', 'Maine', 'New Hampshire', 'Vermont', 'Massachusetts', 'Rhode Island', 'Connecticut', 'New York', 'Pennsylvania', 'New Jersey']\n",
    "Midwest = ['Midwest', 'Wisconsin', 'Michigan', 'Illinois', 'Indiana', 'Ohio', 'North Dakota', 'South Dakota', 'Nebraska', 'Kansas', 'Minnesota', 'Iowa', 'Missouri']\n",
    "South = ['South', 'Delaware', 'Maryland', 'District of Columbia', 'Virginia', 'West Virginia', 'North Carolina', 'South Carolina', 'Georgia', 'Florida', 'Kentucky', 'Tennessee', 'Mississippi', 'Alabama', 'Oklahoma', 'Texas', 'Arkansas', 'Louisiana']\n",
    "West = ['West', 'Idaho', 'Montana', 'Wyoming', 'Nevada', 'Utah', 'Colorado', 'Arizona', 'New Mexico', 'Alaska', 'Washington', 'Oregon', 'California', 'Hawaii']\n",
    "\n",
    "# Create an array containing the four regions\n",
    "\n",
    "regions = [Northeast, Midwest, South, West]"
   ]
  },
  {
   "cell_type": "code",
   "execution_count": 22,
   "id": "1d0b0089",
   "metadata": {},
   "outputs": [
    {
     "name": "stderr",
     "output_type": "stream",
     "text": [
      "C:\\Users\\Michael\\AppData\\Local\\Temp\\ipykernel_4012\\2447524985.py:4: FutureWarning: Setting an item of incompatible dtype is deprecated and will raise in a future error of pandas. Value 'Northeast' has dtype incompatible with float64, please explicitly cast to a compatible dtype first.\n",
      "  ords_prods_merge.loc[ords_prods_merge['customer_state'].isin(location), 'Region'] = str(location[0])\n"
     ]
    }
   ],
   "source": [
    "# Loop though the four regions add add the region to ords_prods_merge\n",
    "\n",
    "for location in regions:\n",
    "    ords_prods_merge.loc[ords_prods_merge['customer_state'].isin(location), 'Region'] = str(location[0])"
   ]
  },
  {
   "cell_type": "code",
   "execution_count": 8,
   "id": "72d0e2d3",
   "metadata": {
    "scrolled": true
   },
   "outputs": [
    {
     "data": {
      "text/plain": [
       "Region\n",
       "South        10791885\n",
       "West          8292913\n",
       "Midwest       7597325\n",
       "Northeast     5722736\n",
       "Name: count, dtype: int64"
      ]
     },
     "execution_count": 8,
     "metadata": {},
     "output_type": "execute_result"
    }
   ],
   "source": [
    "# count region totals and check for NaN\n",
    "ords_prods_merge['Region'].value_counts(dropna = False)"
   ]
  },
  {
   "cell_type": "code",
   "execution_count": 9,
   "id": "399f4abc",
   "metadata": {
    "scrolled": true
   },
   "outputs": [
    {
     "name": "stdout",
     "output_type": "stream",
     "text": [
      "Region                Midwest  Northeast   South    West\n",
      "customer_state                                          \n",
      "Alabama                     0          0  638003       0\n",
      "Alaska                      0          0       0  648495\n",
      "Arizona                     0          0       0  653964\n",
      "Arkansas                    0          0  636144       0\n",
      "California                  0          0       0  659783\n",
      "Colorado                    0          0       0  639280\n",
      "Connecticut                 0     623022       0       0\n",
      "Delaware                    0          0  637024       0\n",
      "District of Columbia        0          0  613695       0\n",
      "Florida                     0          0  629027       0\n",
      "Georgia                     0          0  656389       0\n",
      "Hawaii                      0          0       0  632901\n",
      "Idaho                       0          0       0  607119\n",
      "Illinois               633024          0       0       0\n",
      "Indiana                627282          0       0       0\n",
      "Iowa                   625493          0       0       0\n",
      "Kansas                 637538          0       0       0\n",
      "Kentucky                    0          0  632490       0\n",
      "Louisiana                   0          0  637482       0\n",
      "Maine                       0     638583       0       0\n",
      "Maryland                    0          0  626579       0\n",
      "Massachusetts               0     646358       0       0\n",
      "Michigan               630928          0       0       0\n",
      "Minnesota              647825          0       0       0\n",
      "Mississippi                 0          0  632675       0\n",
      "Missouri               640732          0       0       0\n",
      "Montana                     0          0       0  635265\n",
      "Nebraska               625813          0       0       0\n",
      "Nevada                      0          0       0  636139\n",
      "New Hampshire               0     615378       0       0\n",
      "New Jersey                  0     627692       0       0\n",
      "New Mexico                  0          0       0  654494\n",
      "New York                    0     635983       0       0\n",
      "North Carolina              0          0  651900       0\n",
      "North Dakota           638491          0       0       0\n",
      "Ohio                   628319          0       0       0\n",
      "Oklahoma                    0          0  651739       0\n",
      "Oregon                      0          0       0  636425\n",
      "Pennsylvania                0     667082       0       0\n",
      "Rhode Island                0     656913       0       0\n",
      "South Carolina              0          0  636754       0\n",
      "South Dakota           633772          0       0       0\n",
      "Tennessee                   0          0  617873       0\n",
      "Texas                       0          0  640394       0\n",
      "Utah                        0          0       0  611941\n",
      "Vermont                     0     611725       0       0\n",
      "Virginia                    0          0  641421       0\n",
      "Washington                  0          0       0  632852\n",
      "West Virginia               0          0  612296       0\n",
      "Wisconsin              628108          0       0       0\n",
      "Wyoming                     0          0       0  644255\n"
     ]
    }
   ],
   "source": [
    "# check states are correctly applied to regions with crosstab\n",
    "cross_sta_reg = pd.crosstab(ords_prods_merge['customer_state'], ords_prods_merge['Region'], dropna = False)\n",
    "print(cross_sta_reg)"
   ]
  },
  {
   "cell_type": "code",
   "execution_count": 10,
   "id": "91483b76",
   "metadata": {
    "scrolled": true
   },
   "outputs": [
    {
     "name": "stdout",
     "output_type": "stream",
     "text": [
      "mean_spend  High spender  Low spender\n",
      "Region                               \n",
      "Midwest          2497034      5100291\n",
      "Northeast        1875170      3847566\n",
      "South            3549625      7242260\n",
      "West             2722093      5570820\n"
     ]
    }
   ],
   "source": [
    "# compare spending habit with region\n",
    "cross_reg_spend = pd.crosstab(ords_prods_merge['Region'], ords_prods_merge['mean_spend'], dropna = False)\n",
    "print(cross_reg_spend)"
   ]
  },
  {
   "cell_type": "code",
   "execution_count": 11,
   "id": "4ed29972",
   "metadata": {
    "scrolled": true
   },
   "outputs": [
    {
     "data": {
      "image/png": "[encoded data removed]",
      "text/plain": [
       "<Figure size 640x480 with 1 Axes>"
      ]
     },
     "metadata": {},
     "output_type": "display_data"
    }
   ],
   "source": [
    "# plot crosstab as bar\n",
    "reg_spend_plot = cross_reg_spend.plot.bar(rot=0)\n",
    "# exporting bar\n",
    "reg_spend_plot.figure.savefig(os.path.join(pathData, '04 Analysis',  'Visualisations', 'reg_spend.png'))"
   ]
  },
  {
   "cell_type": "code",
   "execution_count": 12,
   "id": "5b76a1d3",
   "metadata": {},
   "outputs": [
    {
     "data": {
      "image/png": "[encoded data removed]",
      "text/plain": [
       "<Figure size 1000x600 with 1 Axes>"
      ]
     },
     "metadata": {},
     "output_type": "display_data"
    }
   ],
   "source": [
    "# create a normalised crosstab and plot as a stacked bar chard\n",
    "\n",
    "cross_reg_spend_norm = pd.crosstab(\n",
    "    ords_prods_merge['Region'], ords_prods_merge['mean_spend'],\n",
    "    dropna = False,\n",
    "    normalize=\"index\")\n",
    "\n",
    "cross_reg_spend_norm_plot = cross_reg_spend_norm.plot(kind='bar', \n",
    "                    stacked=True, \n",
    "                    figsize=(10, 6))\n",
    "\n",
    "plt.legend(loc=\"upper left\", ncol=2)\n",
    "plt.xlabel(\"Region\")\n",
    "plt.ylabel(\"Proportion\")\n",
    "plt.show()"
   ]
  },
  {
   "cell_type": "code",
   "execution_count": 13,
   "id": "330194ec",
   "metadata": {},
   "outputs": [],
   "source": [
    "cross_reg_spend_norm_plot.figure.savefig(os.path.join(pathData, '04 Analysis',  'Visualisations', 'reg_spend_norm.png'))"
   ]
  },
  {
   "cell_type": "markdown",
   "id": "7874ff89",
   "metadata": {},
   "source": [
    "## 04 Create an exclusion flag for low-activity customers (<5 orders = Low activity)"
   ]
  },
  {
   "cell_type": "code",
   "execution_count": 26,
   "id": "bd0e154f",
   "metadata": {
    "scrolled": true
   },
   "outputs": [
    {
     "name": "stderr",
     "output_type": "stream",
     "text": [
      "C:\\Users\\Michael\\AppData\\Local\\Temp\\ipykernel_4012\\2287577793.py:2: FutureWarning: Setting an item of incompatible dtype is deprecated and will raise in a future error of pandas. Value 'low activity' has dtype incompatible with float64, please explicitly cast to a compatible dtype first.\n",
      "  ords_prods_merge.loc[ords_prods_merge['max_order'] < 5, 'activity_flag'] = 'low activity'\n"
     ]
    },
    {
     "data": {
      "text/plain": [
       "activity_flag\n",
       "high activity    30964564\n",
       "low activity      1440295\n",
       "Name: count, dtype: int64"
      ]
     },
     "execution_count": 26,
     "metadata": {},
     "output_type": "execute_result"
    }
   ],
   "source": [
    "# create the two types of custoemr activity in a new column\n",
    "ords_prods_merge.loc[ords_prods_merge['max_order'] < 5, 'activity_flag'] = 'low activity'\n",
    "ords_prods_merge.loc[ords_prods_merge['max_order'] >= 5, 'activity_flag'] = 'high activity'\n",
    "ords_prods_merge['activity_flag'].value_counts(dropna = False)"
   ]
  },
  {
   "cell_type": "code",
   "execution_count": 27,
   "id": "b302b375",
   "metadata": {},
   "outputs": [],
   "source": [
    "# create to subframes of customer activity types\n",
    "df_low_activity = ords_prods_merge[ords_prods_merge['activity_flag'] =='low activity']\n",
    "df_high_activity = ords_prods_merge[ords_prods_merge['activity_flag'] =='high activity']"
   ]
  },
  {
   "cell_type": "code",
   "execution_count": 16,
   "id": "cf26149e",
   "metadata": {},
   "outputs": [
    {
     "data": {
      "text/plain": [
       "(1440295, 30)"
      ]
     },
     "execution_count": 16,
     "metadata": {},
     "output_type": "execute_result"
    }
   ],
   "source": [
    "df_low_activity.shape"
   ]
  },
  {
   "cell_type": "code",
   "execution_count": 17,
   "id": "e6e59e12",
   "metadata": {},
   "outputs": [
    {
     "data": {
      "text/plain": [
       "(30964564, 30)"
      ]
     },
     "execution_count": 17,
     "metadata": {},
     "output_type": "execute_result"
    }
   ],
   "source": [
    "df_high_activity.shape"
   ]
  },
  {
   "cell_type": "code",
   "execution_count": 18,
   "id": "22f6dbfa",
   "metadata": {},
   "outputs": [],
   "source": [
    "df_low_activity.to_pickle(os.path.join(pathData, '02 Data','Prepared Data', 'low_activity.pkl'))\n",
    "df_high_activity.to_pickle(os.path.join(pathData, '02 Data','Prepared Data', 'high_activity.pkl'))"
   ]
  },
  {
   "cell_type": "markdown",
   "id": "e336d9b4",
   "metadata": {},
   "source": [
    "## 05 Create a profiling variable based on age, income, goods, and dependents"
   ]
  },
  {
   "cell_type": "markdown",
   "id": "f44d93ff",
   "metadata": {},
   "source": [
    "### a) Determine and assign income brackets to customers"
   ]
  },
  {
   "cell_type": "code",
   "execution_count": 19,
   "id": "73d36d21",
   "metadata": {
    "scrolled": true
   },
   "outputs": [
    {
     "data": {
      "image/png": "[encoded data removed]",
      "text/plain": [
       "<Figure size 640x480 with 1 Axes>"
      ]
     },
     "metadata": {},
     "output_type": "display_data"
    }
   ],
   "source": [
    "# histogram of income\n",
    "hist_bins = [0, 75000, 150000, 600000]\n",
    "hist = df_high_activity['customer_income'].plot.hist(bins = hist_bins, color = '#91cf60', ec = '#1a9850', lw = 0.5)\n"
   ]
  },
  {
   "cell_type": "code",
   "execution_count": 20,
   "id": "72cef462",
   "metadata": {},
   "outputs": [],
   "source": [
    "hist.figure.savefig(os.path.join(pathData, '04 Analysis','Visualisations', 'hist_income.png'))"
   ]
  },
  {
   "cell_type": "code",
   "execution_count": 21,
   "id": "3659af73",
   "metadata": {},
   "outputs": [
    {
     "data": {
      "text/plain": [
       "array([ 76957., 115133., 593901.])"
      ]
     },
     "execution_count": 21,
     "metadata": {},
     "output_type": "execute_result"
    }
   ],
   "source": [
    "# make an income flag\n",
    "# Part 1 find the income of the persons in the 1st, 2nd and 3rd tritile\n",
    "tritiles = np.quantile(df_high_activity['customer_income'], [1/3, 2/3, 1])\n",
    "tritiles"
   ]
  },
  {
   "cell_type": "code",
   "execution_count": 22,
   "id": "ef0c6e3b",
   "metadata": {},
   "outputs": [],
   "source": [
    "# round up to 1 sig fig and add a in income flag (low med high) to the df\n",
    "income_bins = []\n",
    "n = 0\n",
    "while n < 3:\n",
    "    # power = math.floor(math.log10(tritiles[n]))\n",
    "    # k = tritiles[n]/pow(10000, power)\n",
    "    k = tritiles[n]/10000\n",
    "    k = math.ceil(k)\n",
    "    k = k*10000\n",
    "    income_bins.append(k)\n",
    "    n = n+1"
   ]
  },
  {
   "cell_type": "code",
   "execution_count": 23,
   "id": "c57524c1",
   "metadata": {},
   "outputs": [
    {
     "name": "stdout",
     "output_type": "stream",
     "text": [
      "[80000, 120000, 600000]\n"
     ]
    }
   ],
   "source": [
    "# check the upper bound of the income brackets\n",
    "print(income_bins)"
   ]
  },
  {
   "cell_type": "code",
   "execution_count": 24,
   "id": "d3bcd835",
   "metadata": {},
   "outputs": [
    {
     "name": "stderr",
     "output_type": "stream",
     "text": [
      "C:\\Users\\Michael\\AppData\\Local\\Temp\\ipykernel_12148\\614506243.py:2: SettingWithCopyWarning: \n",
      "A value is trying to be set on a copy of a slice from a DataFrame.\n",
      "Try using .loc[row_indexer,col_indexer] = value instead\n",
      "\n",
      "See the caveats in the documentation: https://pandas.pydata.org/pandas-docs/stable/user_guide/indexing.html#returning-a-view-versus-a-copy\n",
      "  df_high_activity.loc[df_high_activity['customer_income'] < income_bins[0], 'income_bracket'] = 'bottom income'\n",
      "C:\\Users\\Michael\\AppData\\Local\\Temp\\ipykernel_12148\\614506243.py:2: FutureWarning: Setting an item of incompatible dtype is deprecated and will raise in a future error of pandas. Value 'bottom income' has dtype incompatible with float64, please explicitly cast to a compatible dtype first.\n",
      "  df_high_activity.loc[df_high_activity['customer_income'] < income_bins[0], 'income_bracket'] = 'bottom income'\n"
     ]
    }
   ],
   "source": [
    "# attach the income brackets to the customer income amount\n",
    "df_high_activity.loc[df_high_activity['customer_income'] < income_bins[0], 'income_bracket'] = 'bottom income'"
   ]
  },
  {
   "cell_type": "code",
   "execution_count": 25,
   "id": "cacc0769",
   "metadata": {},
   "outputs": [],
   "source": [
    "df_high_activity.loc[df_high_activity['customer_income'] >= income_bins[1], 'income_bracket'] = 'top income'"
   ]
  },
  {
   "cell_type": "code",
   "execution_count": 26,
   "id": "9e3fd029",
   "metadata": {},
   "outputs": [
    {
     "name": "stderr",
     "output_type": "stream",
     "text": [
      "C:\\Users\\Michael\\AppData\\Local\\Temp\\ipykernel_12148\\1041457934.py:1: SettingWithCopyWarning: \n",
      "A value is trying to be set on a copy of a slice from a DataFrame\n",
      "\n",
      "See the caveats in the documentation: https://pandas.pydata.org/pandas-docs/stable/user_guide/indexing.html#returning-a-view-versus-a-copy\n",
      "  df_high_activity['income_bracket'].fillna(value = 'middle income', inplace = True)\n"
     ]
    }
   ],
   "source": [
    "df_high_activity['income_bracket'].fillna(value = 'middle income', inplace = True)"
   ]
  },
  {
   "cell_type": "code",
   "execution_count": 27,
   "id": "a277bac3",
   "metadata": {
    "scrolled": true
   },
   "outputs": [
    {
     "data": {
      "text/plain": [
       "income_bracket\n",
       "bottom income    10991648\n",
       "middle income    10793133\n",
       "top income        9179783\n",
       "Name: count, dtype: int64"
      ]
     },
     "execution_count": 27,
     "metadata": {},
     "output_type": "execute_result"
    }
   ],
   "source": [
    "# check the number of customers in each bracket\n",
    "df_high_activity['income_bracket'].value_counts(dropna = False)"
   ]
  },
  {
   "cell_type": "markdown",
   "id": "dc9c0ce4",
   "metadata": {},
   "source": [
    "### b) Determine and set age brackets"
   ]
  },
  {
   "cell_type": "code",
   "execution_count": 30,
   "id": "25e15351",
   "metadata": {},
   "outputs": [
    {
     "data": {
      "text/plain": [
       "array([18., 39., 60., 81.])"
      ]
     },
     "execution_count": 30,
     "metadata": {},
     "output_type": "execute_result"
    }
   ],
   "source": [
    "# make an income flag\n",
    "# Part 1 find the income of the persons in the min, lower tritile, upper tritile and max\n",
    "tritiles_age = np.quantile(df_high_activity['customer_age'], [0, 1/3, 2/3, 1])\n",
    "tritiles_age"
   ]
  },
  {
   "cell_type": "code",
   "execution_count": 31,
   "id": "39941261",
   "metadata": {
    "scrolled": true
   },
   "outputs": [
    {
     "data": {
      "image/png": "[encoded data removed]",
      "text/plain": [
       "<Figure size 640x480 with 1 Axes>"
      ]
     },
     "metadata": {},
     "output_type": "display_data"
    }
   ],
   "source": [
    "hist = df_high_activity['customer_age'].plot.hist(bins = tritiles_age, color = '#91cf60', ec = '#1a9850', lw = 0.5)\n"
   ]
  },
  {
   "cell_type": "code",
   "execution_count": 32,
   "id": "c883d901",
   "metadata": {},
   "outputs": [
    {
     "name": "stderr",
     "output_type": "stream",
     "text": [
      "C:\\Users\\Michael\\AppData\\Local\\Temp\\ipykernel_4012\\3759910687.py:2: SettingWithCopyWarning: \n",
      "A value is trying to be set on a copy of a slice from a DataFrame.\n",
      "Try using .loc[row_indexer,col_indexer] = value instead\n",
      "\n",
      "See the caveats in the documentation: https://pandas.pydata.org/pandas-docs/stable/user_guide/indexing.html#returning-a-view-versus-a-copy\n",
      "  df_high_activity.loc[df_high_activity['customer_age'] <= tritiles_age[3], 'age_bracket'] = 'elder customer'\n",
      "C:\\Users\\Michael\\AppData\\Local\\Temp\\ipykernel_4012\\3759910687.py:2: FutureWarning: Setting an item of incompatible dtype is deprecated and will raise in a future error of pandas. Value 'elder customer' has dtype incompatible with float64, please explicitly cast to a compatible dtype first.\n",
      "  df_high_activity.loc[df_high_activity['customer_age'] <= tritiles_age[3], 'age_bracket'] = 'elder customer'\n"
     ]
    }
   ],
   "source": [
    "# attach the age brackets to the customer income amount\n",
    "df_high_activity.loc[df_high_activity['customer_age'] <= tritiles_age[3], 'age_bracket'] = 'elder customer'"
   ]
  },
  {
   "cell_type": "code",
   "execution_count": 33,
   "id": "23f48e2b",
   "metadata": {},
   "outputs": [],
   "source": [
    "df_high_activity.loc[df_high_activity['customer_age'] <= tritiles_age[2], 'age_bracket'] = 'middle age customer'"
   ]
  },
  {
   "cell_type": "code",
   "execution_count": 34,
   "id": "9d23409c",
   "metadata": {},
   "outputs": [],
   "source": [
    "df_high_activity.loc[df_high_activity['customer_age'] <= tritiles_age[1], 'age_bracket'] = 'younger customer'"
   ]
  },
  {
   "cell_type": "code",
   "execution_count": 35,
   "id": "323971ca",
   "metadata": {
    "scrolled": true
   },
   "outputs": [
    {
     "data": {
      "text/plain": [
       "age_bracket\n",
       "younger customer       10665110\n",
       "middle age customer    10186847\n",
       "elder customer         10112607\n",
       "Name: count, dtype: int64"
      ]
     },
     "execution_count": 35,
     "metadata": {},
     "output_type": "execute_result"
    }
   ],
   "source": [
    "df_high_activity['age_bracket'].value_counts(dropna = False)"
   ]
  },
  {
   "cell_type": "markdown",
   "id": "335e0045",
   "metadata": {},
   "source": [
    "### c) Determine and assign dependants brackets to customers"
   ]
  },
  {
   "cell_type": "code",
   "execution_count": 34,
   "id": "0197c57f",
   "metadata": {},
   "outputs": [
    {
     "data": {
      "text/plain": [
       "customer_dependants\n",
       "3    7772516\n",
       "0    7739681\n",
       "2    7733261\n",
       "1    7719106\n",
       "Name: count, dtype: int64"
      ]
     },
     "execution_count": 34,
     "metadata": {},
     "output_type": "execute_result"
    }
   ],
   "source": [
    "df_high_activity['customer_dependants'].value_counts(dropna = False)"
   ]
  },
  {
   "cell_type": "code",
   "execution_count": 35,
   "id": "a5f8affe",
   "metadata": {},
   "outputs": [
    {
     "name": "stderr",
     "output_type": "stream",
     "text": [
      "C:\\Users\\Michael\\AppData\\Local\\Temp\\ipykernel_12148\\1332261844.py:1: SettingWithCopyWarning: \n",
      "A value is trying to be set on a copy of a slice from a DataFrame.\n",
      "Try using .loc[row_indexer,col_indexer] = value instead\n",
      "\n",
      "See the caveats in the documentation: https://pandas.pydata.org/pandas-docs/stable/user_guide/indexing.html#returning-a-view-versus-a-copy\n",
      "  df_high_activity.loc[df_high_activity['customer_dependants'] < 1, 'dep_bracket'] = 'individual'\n",
      "C:\\Users\\Michael\\AppData\\Local\\Temp\\ipykernel_12148\\1332261844.py:1: FutureWarning: Setting an item of incompatible dtype is deprecated and will raise in a future error of pandas. Value 'individual' has dtype incompatible with float64, please explicitly cast to a compatible dtype first.\n",
      "  df_high_activity.loc[df_high_activity['customer_dependants'] < 1, 'dep_bracket'] = 'individual'\n"
     ]
    }
   ],
   "source": [
    "df_high_activity.loc[df_high_activity['customer_dependants'] < 1, 'dep_bracket'] = 'individual'"
   ]
  },
  {
   "cell_type": "code",
   "execution_count": 36,
   "id": "88b226f5",
   "metadata": {},
   "outputs": [],
   "source": [
    "df_high_activity.loc[df_high_activity['customer_dependants'] == 1, 'dep_bracket'] = 'single dependant'"
   ]
  },
  {
   "cell_type": "code",
   "execution_count": 37,
   "id": "a8aaf155",
   "metadata": {},
   "outputs": [],
   "source": [
    "df_high_activity.loc[df_high_activity['customer_dependants'] > 1, 'dep_bracket'] = 'multiple dependants'"
   ]
  },
  {
   "cell_type": "code",
   "execution_count": 38,
   "id": "fd64d99d",
   "metadata": {},
   "outputs": [
    {
     "data": {
      "text/plain": [
       "dep_bracket\n",
       "multiple dependants    15505777\n",
       "individual              7739681\n",
       "single dependant        7719106\n",
       "Name: count, dtype: int64"
      ]
     },
     "execution_count": 38,
     "metadata": {},
     "output_type": "execute_result"
    }
   ],
   "source": [
    "df_high_activity['dep_bracket'].value_counts(dropna = False)"
   ]
  },
  {
   "cell_type": "markdown",
   "id": "1d1fb58b",
   "metadata": {},
   "source": [
    "### Compare dependants and age"
   ]
  },
  {
   "cell_type": "code",
   "execution_count": 39,
   "id": "ac63222a",
   "metadata": {},
   "outputs": [
    {
     "data": {
      "image/png": "[encoded data removed]",
      "text/plain": [
       "<Figure size 640x480 with 1 Axes>"
      ]
     },
     "metadata": {},
     "output_type": "display_data"
    }
   ],
   "source": [
    "cross_age_deps = pd.crosstab(df_high_activity['age_bracket'], df_high_activity['dep_bracket'], dropna = False)\n",
    "# plot crosstab as bar\n",
    "age_deps_plot = cross_age_deps.plot.bar(rot=0)\n",
    "plt.gca().yaxis.set_major_formatter(StrMethodFormatter('{x:,.0f}'))\n",
    "plt.legend(loc=\"upper left\", ncol=2)\n",
    "plt.xlabel(\"Age Bracket\")\n",
    "plt.ylabel(\"Frequency\")\n",
    "plt.show()\n",
    "# exporting bar\n",
    "age_deps_plot.figure.savefig(os.path.join(pathData, '04 Analysis',  'Visualisations', 'age_deps_plot.png'))"
   ]
  },
  {
   "cell_type": "code",
   "execution_count": 40,
   "id": "9cfedf25",
   "metadata": {},
   "outputs": [
    {
     "data": {
      "image/png": "[encoded data removed]",
      "text/plain": [
       "<Figure size 1000x600 with 1 Axes>"
      ]
     },
     "metadata": {},
     "output_type": "display_data"
    }
   ],
   "source": [
    "# create a normalised crosstab and plot as a stacked bar chart\n",
    "\n",
    "cross_age_deps_norm = pd.crosstab(\n",
    "    df_high_activity['age_bracket'], df_high_activity['dep_bracket'],\n",
    "    dropna = False,\n",
    "    normalize=\"index\")\n",
    "\n",
    "cross_age_deps_norm_plot = cross_age_deps_norm.plot(kind='bar', \n",
    "                    stacked=True, \n",
    "                    figsize=(10, 6))\n",
    "\n",
    "plt.legend(loc=\"upper left\", ncol=2)\n",
    "plt.xlabel(\"Age Bracket\")\n",
    "plt.ylabel(\"Frequency\")\n",
    "plt.show()"
   ]
  },
  {
   "cell_type": "code",
   "execution_count": 41,
   "id": "0d603693",
   "metadata": {},
   "outputs": [],
   "source": [
    "cross_age_deps_norm_plot.figure.savefig(os.path.join(pathData, '04 Analysis',  'Visualisations', 'age_deps_plot_norm.png'))"
   ]
  },
  {
   "cell_type": "markdown",
   "id": "f0ede579",
   "metadata": {},
   "source": [
    "### Compare age and spending"
   ]
  },
  {
   "cell_type": "code",
   "execution_count": 42,
   "id": "861438cc",
   "metadata": {
    "scrolled": true
   },
   "outputs": [
    {
     "data": {
      "image/png": "[encoded data removed]",
      "text/plain": [
       "<Figure size 640x480 with 1 Axes>"
      ]
     },
     "metadata": {},
     "output_type": "display_data"
    }
   ],
   "source": [
    "cross_age_deps = pd.crosstab(df_high_activity['age_bracket'], df_high_activity['income_bracket'], dropna = False)\n",
    "# plot crosstab as bar\n",
    "age_income_plot = cross_age_deps.plot.bar(rot=0)\n",
    "plt.gca().yaxis.set_major_formatter(StrMethodFormatter('{x:,.0f}'))\n",
    "plt.legend(loc=\"upper left\", ncol=2)\n",
    "plt.xlabel(\"Age Bracket\")\n",
    "plt.ylabel(\"Frequency\")\n",
    "plt.show()\n",
    "# exporting bar\n",
    "age_income_plot.figure.savefig(os.path.join(pathData, '04 Analysis',  'Visualisations', 'age_income_plot.png'))"
   ]
  },
  {
   "cell_type": "code",
   "execution_count": 43,
   "id": "ffcc2bc5",
   "metadata": {
    "scrolled": true
   },
   "outputs": [
    {
     "data": {
      "image/png": "[encoded data removed]",
      "text/plain": [
       "<Figure size 1000x600 with 1 Axes>"
      ]
     },
     "metadata": {},
     "output_type": "display_data"
    }
   ],
   "source": [
    "# create a normalised crosstab and plot as a stacked bar chart\n",
    "\n",
    "cross_age_income_norm = pd.crosstab(\n",
    "    df_high_activity['age_bracket'], df_high_activity['income_bracket'],\n",
    "    dropna = False,\n",
    "    normalize=\"index\")\n",
    "\n",
    "cross_age_income_norm_plot = cross_age_deps_norm.plot(kind='bar', \n",
    "                    stacked=True, \n",
    "                    figsize=(10, 6))\n",
    "\n",
    "plt.legend(loc=\"upper left\", ncol=2)\n",
    "plt.xlabel(\"Age Bracket\")\n",
    "plt.ylabel(\"Frequency\")\n",
    "plt.gca().yaxis.set_major_formatter(StrMethodFormatter('{x:,.1f}'))\n",
    "plt.show()"
   ]
  },
  {
   "cell_type": "code",
   "execution_count": 44,
   "id": "8a5e497f",
   "metadata": {
    "scrolled": true
   },
   "outputs": [],
   "source": [
    "cross_age_income_norm_plot.figure.savefig(os.path.join(pathData, '04 Analysis',  'Visualisations', 'age_income_plot_norm.png'))"
   ]
  },
  {
   "cell_type": "markdown",
   "id": "9d6cd4a6",
   "metadata": {},
   "source": [
    "## SAVE ALL DATA"
   ]
  },
  {
   "cell_type": "code",
   "execution_count": 45,
   "id": "6ee1044f",
   "metadata": {
    "scrolled": true
   },
   "outputs": [
    {
     "name": "stdout",
     "output_type": "stream",
     "text": [
      "<class 'pandas.core.frame.DataFrame'>\n",
      "Index: 30964564 entries, 0 to 32404858\n",
      "Data columns (total 33 columns):\n",
      " #   Column                 Dtype  \n",
      "---  ------                 -----  \n",
      " 0   order_id               object \n",
      " 1   user_id                object \n",
      " 2   order_number           int64  \n",
      " 3   orders_day_of_week     int64  \n",
      " 4   order_hour_of_day      int64  \n",
      " 5   days_since_last_order  float64\n",
      " 6   product_id             object \n",
      " 7   add_to_cart_order      int64  \n",
      " 8   reordered              int64  \n",
      " 9   product_name           object \n",
      " 10  aisle_id               int64  \n",
      " 11  department_id          int64  \n",
      " 12  prices                 float64\n",
      " 13  price_range_loc        object \n",
      " 14  busiest_days           object \n",
      " 15  busiest_period_of_day  object \n",
      " 16  max_order              int64  \n",
      " 17  loyalty_flag           object \n",
      " 18  mean_spend             object \n",
      " 19  order_frequency        float64\n",
      " 20  order_frequency_flag   object \n",
      " 21  Gender                 object \n",
      " 22  customer_state         object \n",
      " 23  customer_age           int64  \n",
      " 24  date_joined            object \n",
      " 25  customer_dependants    int64  \n",
      " 26  fam_status             object \n",
      " 27  customer_income        int64  \n",
      " 28  Region                 object \n",
      " 29  activity_flag          object \n",
      " 30  income_bracket         object \n",
      " 31  age_bracket            object \n",
      " 32  dep_bracket            object \n",
      "dtypes: float64(3), int64(11), object(19)\n",
      "memory usage: 7.8+ GB\n"
     ]
    }
   ],
   "source": [
    "df_high_activity.info()"
   ]
  },
  {
   "cell_type": "code",
   "execution_count": 47,
   "id": "0cdac713",
   "metadata": {},
   "outputs": [],
   "source": [
    "df_high_activity.to_pickle(os.path.join(pathData, '02 Data','Prepared Data', 'high_activity.pkl'))"
   ]
  },
  {
   "cell_type": "markdown",
   "id": "17e046d0",
   "metadata": {},
   "source": [
    "### AGE AND SPENDING HABITS"
   ]
  },
  {
   "cell_type": "code",
   "execution_count": 37,
   "id": "9e7adc07",
   "metadata": {},
   "outputs": [
    {
     "data": {
      "text/plain": [
       "price_range_loc\n",
       "Mid-range product     20891771\n",
       "Low-range product      9674840\n",
       "High-range product      397953\n",
       "Name: count, dtype: int64"
      ]
     },
     "execution_count": 37,
     "metadata": {},
     "output_type": "execute_result"
    }
   ],
   "source": [
    "df_high_activity['price_range_loc'].value_counts()"
   ]
  },
  {
   "cell_type": "code",
   "execution_count": 38,
   "id": "a4d97f1f",
   "metadata": {},
   "outputs": [
    {
     "data": {
      "image/png": "[encoded data removed]",
      "text/plain": [
       "<Figure size 640x480 with 1 Axes>"
      ]
     },
     "metadata": {},
     "output_type": "display_data"
    },
    {
     "ename": "AttributeError",
     "evalue": "'DataFrame' object has no attribute 'figure'",
     "output_type": "error",
     "traceback": [
      "\u001b[1;31m---------------------------------------------------------------------------\u001b[0m",
      "\u001b[1;31mAttributeError\u001b[0m                            Traceback (most recent call last)",
      "\u001b[1;32m~\\AppData\\Local\\Temp\\ipykernel_4012\\2206271692.py\u001b[0m in \u001b[0;36m?\u001b[1;34m()\u001b[0m\n\u001b[0;32m      6\u001b[0m \u001b[0mplt\u001b[0m\u001b[1;33m.\u001b[0m\u001b[0mxlabel\u001b[0m\u001b[1;33m(\u001b[0m\u001b[1;34m\"Age Bracket\"\u001b[0m\u001b[1;33m)\u001b[0m\u001b[1;33m\u001b[0m\u001b[1;33m\u001b[0m\u001b[0m\n\u001b[0;32m      7\u001b[0m \u001b[0mplt\u001b[0m\u001b[1;33m.\u001b[0m\u001b[0mylabel\u001b[0m\u001b[1;33m(\u001b[0m\u001b[1;34m\"Frequency\"\u001b[0m\u001b[1;33m)\u001b[0m\u001b[1;33m\u001b[0m\u001b[1;33m\u001b[0m\u001b[0m\n\u001b[0;32m      8\u001b[0m \u001b[0mplt\u001b[0m\u001b[1;33m.\u001b[0m\u001b[0mshow\u001b[0m\u001b[1;33m(\u001b[0m\u001b[1;33m)\u001b[0m\u001b[1;33m\u001b[0m\u001b[1;33m\u001b[0m\u001b[0m\n\u001b[0;32m      9\u001b[0m \u001b[1;31m# exporting bar\u001b[0m\u001b[1;33m\u001b[0m\u001b[1;33m\u001b[0m\u001b[0m\n\u001b[1;32m---> 10\u001b[1;33m \u001b[0mage_price\u001b[0m\u001b[1;33m.\u001b[0m\u001b[0mfigure\u001b[0m\u001b[1;33m.\u001b[0m\u001b[0msavefig\u001b[0m\u001b[1;33m(\u001b[0m\u001b[0mos\u001b[0m\u001b[1;33m.\u001b[0m\u001b[0mpath\u001b[0m\u001b[1;33m.\u001b[0m\u001b[0mjoin\u001b[0m\u001b[1;33m(\u001b[0m\u001b[0mpathData\u001b[0m\u001b[1;33m,\u001b[0m \u001b[1;34m'04 Analysis'\u001b[0m\u001b[1;33m,\u001b[0m  \u001b[1;34m'Visualisations'\u001b[0m\u001b[1;33m,\u001b[0m \u001b[1;34m'age_price_plot.png'\u001b[0m\u001b[1;33m)\u001b[0m\u001b[1;33m)\u001b[0m\u001b[1;33m\u001b[0m\u001b[1;33m\u001b[0m\u001b[0m\n\u001b[0m",
      "\u001b[1;32mC:\\ProgramData\\anaconda3\\Lib\\site-packages\\pandas\\core\\generic.py\u001b[0m in \u001b[0;36m?\u001b[1;34m(self, name)\u001b[0m\n\u001b[0;32m   6200\u001b[0m             \u001b[1;32mand\u001b[0m \u001b[0mname\u001b[0m \u001b[1;32mnot\u001b[0m \u001b[1;32min\u001b[0m \u001b[0mself\u001b[0m\u001b[1;33m.\u001b[0m\u001b[0m_accessors\u001b[0m\u001b[1;33m\u001b[0m\u001b[1;33m\u001b[0m\u001b[0m\n\u001b[0;32m   6201\u001b[0m             \u001b[1;32mand\u001b[0m \u001b[0mself\u001b[0m\u001b[1;33m.\u001b[0m\u001b[0m_info_axis\u001b[0m\u001b[1;33m.\u001b[0m\u001b[0m_can_hold_identifiers_and_holds_name\u001b[0m\u001b[1;33m(\u001b[0m\u001b[0mname\u001b[0m\u001b[1;33m)\u001b[0m\u001b[1;33m\u001b[0m\u001b[1;33m\u001b[0m\u001b[0m\n\u001b[0;32m   6202\u001b[0m         ):\n\u001b[0;32m   6203\u001b[0m             \u001b[1;32mreturn\u001b[0m \u001b[0mself\u001b[0m\u001b[1;33m[\u001b[0m\u001b[0mname\u001b[0m\u001b[1;33m]\u001b[0m\u001b[1;33m\u001b[0m\u001b[1;33m\u001b[0m\u001b[0m\n\u001b[1;32m-> 6204\u001b[1;33m         \u001b[1;32mreturn\u001b[0m \u001b[0mobject\u001b[0m\u001b[1;33m.\u001b[0m\u001b[0m__getattribute__\u001b[0m\u001b[1;33m(\u001b[0m\u001b[0mself\u001b[0m\u001b[1;33m,\u001b[0m \u001b[0mname\u001b[0m\u001b[1;33m)\u001b[0m\u001b[1;33m\u001b[0m\u001b[1;33m\u001b[0m\u001b[0m\n\u001b[0m",
      "\u001b[1;31mAttributeError\u001b[0m: 'DataFrame' object has no attribute 'figure'"
     ]
    }
   ],
   "source": [
    "age_price = pd.crosstab(df_high_activity['age_bracket'], df_high_activity['price_range_loc'], dropna = False)\n",
    "# plot crosstab as bar\n",
    "age_income_plot = age_price.plot.bar(rot=0)\n",
    "plt.gca().yaxis.set_major_formatter(StrMethodFormatter('{x:,.0f}'))\n",
    "plt.legend(loc=\"upper left\", ncol=2)\n",
    "plt.xlabel(\"Age Bracket\")\n",
    "plt.ylabel(\"Frequency\")\n",
    "plt.show()\n",
    "# exporting bar\n",
    "age_price.figure.savefig(os.path.join(pathData, '04 Analysis',  'Visualisations', 'age_price_plot.png'))"
   ]
  },
  {
   "cell_type": "code",
   "execution_count": null,
   "id": "5ef18183",
   "metadata": {},
   "outputs": [],
   "source": [
    "cross_age_dept_norm = pd.crosstab(\n",
    "    active_top_depts['department'], active_top_depts['age_bracket'],\n",
    "    dropna = False,\n",
    "    normalize=\"index\")\n",
    "\n",
    "cross_age_dept_norm_plot = cross_age_dept_norm.plot(kind='bar', \n",
    "                    stacked=True, \n",
    "                    figsize=(10, 6))\n",
    "\n",
    "plt.legend(loc=\"best\", ncol=2)\n",
    "plt.xlabel(\"Department\")\n",
    "plt.ylabel(\"Proportion\")\n",
    "plt.show()\n",
    "\n",
    "cross_age_dept_norm_plot.figure.savefig(os.path.join(pathData, '04 Analysis','Visualisations', 'age_dept_norm_plot.png'))"
   ]
  }
 ],
 "metadata": {
  "kernelspec": {
   "display_name": "Python 3 (ipykernel)",
   "language": "python",
   "name": "python3"
  },
  "language_info": {
   "codemirror_mode": {
    "name": "ipython",
    "version": 3
   },
   "file_extension": ".py",
   "mimetype": "text/x-python",
   "name": "python",
   "nbconvert_exporter": "python",
   "pygments_lexer": "ipython3",
   "version": "3.11.5"
  }
 },
 "nbformat": 4,
 "nbformat_minor": 5
}
