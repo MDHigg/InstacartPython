{
 "cells": [
  {
   "cell_type": "markdown",
   "id": "7fc329f1",
   "metadata": {},
   "source": [
    "# 4.07 Deriving New Variables\n",
    "\n",
    "### 00 Initial tasks\n",
    "##### a) Importing libraries\n",
    "##### b) creating truncated df (1,000,000 rows only)\n",
    "\n",
    "### 01 Adding _price/_label_ and _busiest/_day_ columns\n",
    "##### a) Prices Label by defining new function\n",
    "##### b) Prices Label by using _.loc_ \n",
    "##### c) Busiest Day using _.loc_\n",
    "\n",
    "### 02 Changing Busiest day to Busiest Days\n",
    "### 03 and check the results\n",
    "\n",
    "### 04 Finding the _busiest/_period/_of/_day_\n",
    "##### a) Find the number of orders made during each hour\n",
    "##### b) Make a list of the catagory of order volume for each row in the df"
   ]
  },
  {
   "cell_type": "markdown",
   "id": "689a0edf",
   "metadata": {},
   "source": [
    "### 00 Initial tasks\n",
    "#### a)Importing libraries"
   ]
  },
  {
   "cell_type": "code",
   "execution_count": 4,
   "id": "9c095ac0",
   "metadata": {},
   "outputs": [],
   "source": [
    "import os\n",
    "import numpy as np\n",
    "import pandas as pd\n",
    "\n",
    "pathData = r'C:\\Users\\Michael\\Desktop\\Career Foundry\\02 Data Immersion Course\\04 Python Fundamentals for Data Analysts\\Instacart Basket Analysis 2023 11\\02 Data'\n",
    "\n",
    "df_ords_prods_merged = pd.read_pickle(os.path.join(pathData, 'Prepared Data', 'orders_products_merged.pkl'))"
   ]
  },
  {
   "cell_type": "markdown",
   "id": "54963939",
   "metadata": {},
   "source": [
    "##### b) creating truncated df (1,000,000 rows only)"
   ]
  },
  {
   "cell_type": "code",
   "execution_count": 5,
   "id": "d661fefe",
   "metadata": {},
   "outputs": [],
   "source": [
    "df = df_ords_prods_merged[:1000000]"
   ]
  },
  {
   "cell_type": "code",
   "execution_count": 6,
   "id": "4e7b475e",
   "metadata": {},
   "outputs": [
    {
     "data": {
      "text/plain": [
       "(1000000, 14)"
      ]
     },
     "execution_count": 6,
     "metadata": {},
     "output_type": "execute_result"
    }
   ],
   "source": [
    "df.shape"
   ]
  },
  {
   "cell_type": "markdown",
   "id": "296b7b9c",
   "metadata": {},
   "source": [
    "### 01 Adding _price/_label_ and _busiest/_day_ columns\n",
    "##### a) Prices Label by defining new function"
   ]
  },
  {
   "cell_type": "code",
   "execution_count": 7,
   "id": "c360ece3",
   "metadata": {
    "scrolled": true
   },
   "outputs": [
    {
     "name": "stderr",
     "output_type": "stream",
     "text": [
      "C:\\Users\\Michael\\AppData\\Local\\Temp\\ipykernel_7508\\3459379277.py:11: SettingWithCopyWarning: \n",
      "A value is trying to be set on a copy of a slice from a DataFrame.\n",
      "Try using .loc[row_indexer,col_indexer] = value instead\n",
      "\n",
      "See the caveats in the documentation: https://pandas.pydata.org/pandas-docs/stable/user_guide/indexing.html#returning-a-view-versus-a-copy\n",
      "  df['price_range'] = df.apply(price_label, axis = 1)\n"
     ]
    },
    {
     "data": {
      "text/html": [
       "<div>\n",
       "<style scoped>\n",
       "    .dataframe tbody tr th:only-of-type {\n",
       "        vertical-align: middle;\n",
       "    }\n",
       "\n",
       "    .dataframe tbody tr th {\n",
       "        vertical-align: top;\n",
       "    }\n",
       "\n",
       "    .dataframe thead th {\n",
       "        text-align: right;\n",
       "    }\n",
       "</style>\n",
       "<table border=\"1\" class=\"dataframe\">\n",
       "  <thead>\n",
       "    <tr style=\"text-align: right;\">\n",
       "      <th></th>\n",
       "      <th>order_id</th>\n",
       "      <th>user_id</th>\n",
       "      <th>order_number</th>\n",
       "      <th>orders_day_of_week</th>\n",
       "      <th>order_hour_of_day</th>\n",
       "      <th>days_since_last_order</th>\n",
       "      <th>product_id</th>\n",
       "      <th>add_to_cart_order</th>\n",
       "      <th>reordered</th>\n",
       "      <th>product_name</th>\n",
       "      <th>aisle_id</th>\n",
       "      <th>department_id</th>\n",
       "      <th>prices</th>\n",
       "      <th>_merge</th>\n",
       "      <th>price_range</th>\n",
       "    </tr>\n",
       "  </thead>\n",
       "  <tbody>\n",
       "    <tr>\n",
       "      <th>0</th>\n",
       "      <td>2539329</td>\n",
       "      <td>1</td>\n",
       "      <td>1</td>\n",
       "      <td>2</td>\n",
       "      <td>8</td>\n",
       "      <td>NaN</td>\n",
       "      <td>196</td>\n",
       "      <td>1</td>\n",
       "      <td>0</td>\n",
       "      <td>Soda</td>\n",
       "      <td>77</td>\n",
       "      <td>7</td>\n",
       "      <td>9.0</td>\n",
       "      <td>both</td>\n",
       "      <td>Mid-range product</td>\n",
       "    </tr>\n",
       "    <tr>\n",
       "      <th>1</th>\n",
       "      <td>2398795</td>\n",
       "      <td>1</td>\n",
       "      <td>2</td>\n",
       "      <td>3</td>\n",
       "      <td>7</td>\n",
       "      <td>15.0</td>\n",
       "      <td>196</td>\n",
       "      <td>1</td>\n",
       "      <td>1</td>\n",
       "      <td>Soda</td>\n",
       "      <td>77</td>\n",
       "      <td>7</td>\n",
       "      <td>9.0</td>\n",
       "      <td>both</td>\n",
       "      <td>Mid-range product</td>\n",
       "    </tr>\n",
       "    <tr>\n",
       "      <th>2</th>\n",
       "      <td>473747</td>\n",
       "      <td>1</td>\n",
       "      <td>3</td>\n",
       "      <td>3</td>\n",
       "      <td>12</td>\n",
       "      <td>21.0</td>\n",
       "      <td>196</td>\n",
       "      <td>1</td>\n",
       "      <td>1</td>\n",
       "      <td>Soda</td>\n",
       "      <td>77</td>\n",
       "      <td>7</td>\n",
       "      <td>9.0</td>\n",
       "      <td>both</td>\n",
       "      <td>Mid-range product</td>\n",
       "    </tr>\n",
       "    <tr>\n",
       "      <th>3</th>\n",
       "      <td>2254736</td>\n",
       "      <td>1</td>\n",
       "      <td>4</td>\n",
       "      <td>4</td>\n",
       "      <td>7</td>\n",
       "      <td>29.0</td>\n",
       "      <td>196</td>\n",
       "      <td>1</td>\n",
       "      <td>1</td>\n",
       "      <td>Soda</td>\n",
       "      <td>77</td>\n",
       "      <td>7</td>\n",
       "      <td>9.0</td>\n",
       "      <td>both</td>\n",
       "      <td>Mid-range product</td>\n",
       "    </tr>\n",
       "    <tr>\n",
       "      <th>4</th>\n",
       "      <td>431534</td>\n",
       "      <td>1</td>\n",
       "      <td>5</td>\n",
       "      <td>4</td>\n",
       "      <td>15</td>\n",
       "      <td>28.0</td>\n",
       "      <td>196</td>\n",
       "      <td>1</td>\n",
       "      <td>1</td>\n",
       "      <td>Soda</td>\n",
       "      <td>77</td>\n",
       "      <td>7</td>\n",
       "      <td>9.0</td>\n",
       "      <td>both</td>\n",
       "      <td>Mid-range product</td>\n",
       "    </tr>\n",
       "  </tbody>\n",
       "</table>\n",
       "</div>"
      ],
      "text/plain": [
       "  order_id user_id  order_number  orders_day_of_week  order_hour_of_day  \\\n",
       "0  2539329       1             1                   2                  8   \n",
       "1  2398795       1             2                   3                  7   \n",
       "2   473747       1             3                   3                 12   \n",
       "3  2254736       1             4                   4                  7   \n",
       "4   431534       1             5                   4                 15   \n",
       "\n",
       "   days_since_last_order product_id  add_to_cart_order  reordered  \\\n",
       "0                    NaN        196                  1          0   \n",
       "1                   15.0        196                  1          1   \n",
       "2                   21.0        196                  1          1   \n",
       "3                   29.0        196                  1          1   \n",
       "4                   28.0        196                  1          1   \n",
       "\n",
       "  product_name  aisle_id  department_id  prices _merge        price_range  \n",
       "0         Soda        77              7     9.0   both  Mid-range product  \n",
       "1         Soda        77              7     9.0   both  Mid-range product  \n",
       "2         Soda        77              7     9.0   both  Mid-range product  \n",
       "3         Soda        77              7     9.0   both  Mid-range product  \n",
       "4         Soda        77              7     9.0   both  Mid-range product  "
      ]
     },
     "execution_count": 7,
     "metadata": {},
     "output_type": "execute_result"
    }
   ],
   "source": [
    "def price_label(row):\n",
    "    if row['prices'] <= 5:\n",
    "        return 'Low-range product'\n",
    "    elif row['prices'] <=15:\n",
    "        return 'Mid-range product'\n",
    "    elif row['prices'] > 15:\n",
    "        return 'High-range product'\n",
    "    else:\n",
    "        return 'Not enough data'\n",
    "\n",
    "df['price_range'] = df.apply(price_label, axis = 1)\n",
    "df.head()"
   ]
  },
  {
   "cell_type": "code",
   "execution_count": 15,
   "id": "082ae9c3",
   "metadata": {},
   "outputs": [
    {
     "data": {
      "text/plain": [
       "price_range\n",
       "Mid-range product    756450\n",
       "Low-range product    243550\n",
       "Name: count, dtype: int64"
      ]
     },
     "execution_count": 15,
     "metadata": {},
     "output_type": "execute_result"
    }
   ],
   "source": [
    "df['price_range'].value_counts(dropna = True)"
   ]
  },
  {
   "cell_type": "code",
   "execution_count": 16,
   "id": "32279cb5",
   "metadata": {
    "scrolled": true
   },
   "outputs": [
    {
     "data": {
      "text/plain": [
       "14.8"
      ]
     },
     "execution_count": 16,
     "metadata": {},
     "output_type": "execute_result"
    }
   ],
   "source": [
    "df['prices'].max()"
   ]
  },
  {
   "cell_type": "markdown",
   "id": "5f776bdd",
   "metadata": {},
   "source": [
    "##### b) Prices Label by using _.loc_ "
   ]
  },
  {
   "cell_type": "code",
   "execution_count": 41,
   "id": "8edfa192",
   "metadata": {},
   "outputs": [],
   "source": [
    "#labelling the high value products\n",
    "df_ords_prods_merged.loc[df_ords_prods_merged['prices'] > 15, 'price_range_loc'] = 'High-range product'"
   ]
  },
  {
   "cell_type": "code",
   "execution_count": 56,
   "id": "2f9cde10",
   "metadata": {},
   "outputs": [],
   "source": [
    "#labelling the mid value products\n",
    "df_ords_prods_merged.loc[(df_ords_prods_merged['prices'] <= 15) & (df_ords_prods_merged['prices'] > 5), 'price_range_loc'] = 'Mid-range product' "
   ]
  },
  {
   "cell_type": "code",
   "execution_count": 43,
   "id": "e61d6ff5",
   "metadata": {},
   "outputs": [],
   "source": [
    "#labelling the low value products\n",
    "df_ords_prods_merged.loc[df_ords_prods_merged['prices'] <= 5, 'price_range_loc'] = 'Low-range product'"
   ]
  },
  {
   "cell_type": "code",
   "execution_count": 57,
   "id": "de318c83",
   "metadata": {},
   "outputs": [
    {
     "data": {
      "text/plain": [
       "price_range_loc\n",
       "Mid-range product     21860860\n",
       "Low-range product     10126321\n",
       "High-range product      417678\n",
       "Name: count, dtype: int64"
      ]
     },
     "execution_count": 57,
     "metadata": {},
     "output_type": "execute_result"
    }
   ],
   "source": [
    "#counting the number of each catagory of product price\n",
    "df_ords_prods_merged['price_range_loc'].value_counts(dropna = False)"
   ]
  },
  {
   "cell_type": "code",
   "execution_count": 81,
   "id": "d040cdee",
   "metadata": {},
   "outputs": [
    {
     "data": {
      "text/plain": [
       "(32404859, 15)"
      ]
     },
     "execution_count": 81,
     "metadata": {},
     "output_type": "execute_result"
    }
   ],
   "source": [
    "# checking the dimiensions of the df\n",
    "df_ords_prods_merged.shape"
   ]
  },
  {
   "cell_type": "markdown",
   "id": "07cbbfda",
   "metadata": {},
   "source": [
    "##### c) Busiest Day using _.loc_"
   ]
  },
  {
   "cell_type": "code",
   "execution_count": 82,
   "id": "0d702ae8",
   "metadata": {},
   "outputs": [
    {
     "data": {
      "text/plain": [
       "orders_day_of_week\n",
       "0    6204182\n",
       "1    5660230\n",
       "6    4496490\n",
       "2    4213830\n",
       "5    4205791\n",
       "3    3840534\n",
       "4    3783802\n",
       "Name: count, dtype: int64"
      ]
     },
     "execution_count": 82,
     "metadata": {},
     "output_type": "execute_result"
    }
   ],
   "source": [
    "# Find the count of order days\n",
    "df_ords_prods_merged['orders_day_of_week'].value_counts(dropna = False)"
   ]
  },
  {
   "cell_type": "code",
   "execution_count": 84,
   "id": "bb789248",
   "metadata": {},
   "outputs": [],
   "source": [
    "# make a list catagories in how busy each day is \n",
    "result = []\n",
    "\n",
    "for value in df_ords_prods_merged[\"orders_day_of_week\"]:\n",
    "  if value == 0:\n",
    "    result.append(\"Busiest day\")\n",
    "  elif value == 4:\n",
    "    result.append(\"Least busy\")\n",
    "  else:\n",
    "    result.append(\"Regularly busy\")"
   ]
  },
  {
   "cell_type": "code",
   "execution_count": 85,
   "id": "f7943be3",
   "metadata": {},
   "outputs": [
    {
     "data": {
      "text/plain": [
       "busiest_day\n",
       "Regularly busy    22416875\n",
       "Busiest day        6204182\n",
       "Least busy         3783802\n",
       "Name: count, dtype: int64"
      ]
     },
     "execution_count": 85,
     "metadata": {},
     "output_type": "execute_result"
    }
   ],
   "source": [
    "# add the list as a new column to the df, show the count to check against initial value_counts (above)\n",
    "df_ords_prods_merged[\"busiest_day\"] = result\n",
    "df_ords_prods_merged[\"busiest_day\"].value_counts(dropna = False)"
   ]
  },
  {
   "cell_type": "markdown",
   "id": "d4cb0659",
   "metadata": {},
   "source": [
    "### 02 Changing Busiest day to Busiest Days\n",
    "### 03 and check the results"
   ]
  },
  {
   "cell_type": "code",
   "execution_count": 86,
   "id": "d7ef41d2",
   "metadata": {},
   "outputs": [],
   "source": [
    "# drop the busiest day column from the df\n",
    "df_ords_prods_merged.drop(columns = [\"busiest_day\"], inplace = True)"
   ]
  },
  {
   "cell_type": "code",
   "execution_count": 88,
   "id": "e7445fa9",
   "metadata": {
    "scrolled": true
   },
   "outputs": [
    {
     "data": {
      "text/plain": [
       "busiest_days\n",
       "Regularly busy days    12916111\n",
       "Busiest days           11864412\n",
       "Least busy days         7624336\n",
       "Name: count, dtype: int64"
      ]
     },
     "execution_count": 88,
     "metadata": {},
     "output_type": "execute_result"
    }
   ],
   "source": [
    "# make a list catagories in how busy each day is\n",
    "# busiest days are 0 and 1\n",
    "# least busy are 4 and 3\n",
    "# all others are mid range\n",
    "result = []\n",
    "\n",
    "for value in df_ords_prods_merged[\"orders_day_of_week\"]:\n",
    "  if value == 0 or value == 1:\n",
    "    result.append(\"Busiest days\")\n",
    "  elif value == 4 or value == 3:\n",
    "    result.append(\"Least busy days\")\n",
    "  else:\n",
    "    result.append(\"Regularly busy days\")\n",
    "\n",
    "# add then results of the list to the new df in a new column \"busiest_days\"\n",
    "df_ords_prods_merged[\"busiest_days\"] = result\n",
    "# show the resuts of this for checking\n",
    "df_ords_prods_merged[\"busiest_days\"].value_counts(dropna = False)"
   ]
  },
  {
   "cell_type": "markdown",
   "id": "dd73a992",
   "metadata": {},
   "source": [
    "The numbers compared to the count of days above are correct"
   ]
  },
  {
   "cell_type": "markdown",
   "id": "50f57987",
   "metadata": {},
   "source": [
    "### 04 Finding the _busiest/_period/_of/_day_\n",
    "##### a) Find the number of orders made during each hour"
   ]
  },
  {
   "cell_type": "code",
   "execution_count": 91,
   "id": "e7bda0c0",
   "metadata": {},
   "outputs": [
    {
     "data": {
      "text/plain": [
       "order_hour_of_day\n",
       "10    2761760\n",
       "11    2736140\n",
       "14    2689136\n",
       "15    2662144\n",
       "13    2660954\n",
       "12    2618532\n",
       "16    2535202\n",
       "9     2454203\n",
       "17    2087654\n",
       "8     1718118\n",
       "18    1636502\n",
       "19    1258305\n",
       "20     976156\n",
       "7      891054\n",
       "21     795637\n",
       "22     634225\n",
       "23     402316\n",
       "6      290493\n",
       "0      218769\n",
       "1      115700\n",
       "5       87961\n",
       "2       69375\n",
       "4       53242\n",
       "3       51281\n",
       "Name: count, dtype: int64"
      ]
     },
     "execution_count": 91,
     "metadata": {},
     "output_type": "execute_result"
    }
   ],
   "source": [
    "# Find the count of order hours\n",
    "df_ords_prods_merged['order_hour_of_day'].value_counts(dropna = False)"
   ]
  },
  {
   "cell_type": "markdown",
   "id": "10e7faec",
   "metadata": {},
   "source": [
    "The hours 1 - 5 are the least common ordering times\n",
    "The hours 9-16 are the highest ordering times\n",
    "\n",
    "There are big jumps in the numbe rof orders from 0000 to 0100 and from 0900 to 1700\n",
    "trherefore these times (0100 and 0900) should be the bounds of the time catagories\n",
    "\n",
    "##### b) Make a list of the catagory of order volume for each row in the df"
   ]
  },
  {
   "cell_type": "code",
   "execution_count": 92,
   "id": "de3d62b7",
   "metadata": {},
   "outputs": [
    {
     "data": {
      "text/plain": [
       "busiest_period_of_day\n",
       "Most orders       21118071\n",
       "Average orders    10909229\n",
       "Fewest orders       377559\n",
       "Name: count, dtype: int64"
      ]
     },
     "execution_count": 92,
     "metadata": {},
     "output_type": "execute_result"
    }
   ],
   "source": [
    "result = []\n",
    "\n",
    "for value in df_ords_prods_merged[\"order_hour_of_day\"]:\n",
    "  if value <=5 and value >= 1:\n",
    "    result.append(\"Fewest orders\")\n",
    "  elif value <= 16 and value >= 9:\n",
    "    result.append(\"Most orders\")\n",
    "  else:\n",
    "    result.append(\"Average orders\")\n",
    "    \n",
    "# append the list to a new column called busiest_period_of_day\n",
    "df_ords_prods_merged[\"busiest_period_of_day\"] = result\n",
    "# show the resuts of this for checking\n",
    "df_ords_prods_merged[\"busiest_period_of_day\"].value_counts(dropna = False)"
   ]
  },
  {
   "cell_type": "markdown",
   "id": "0937f2c1",
   "metadata": {},
   "source": [
    "### 07 Export as .pkl file"
   ]
  },
  {
   "cell_type": "code",
   "execution_count": 94,
   "id": "21f8f7c1",
   "metadata": {},
   "outputs": [],
   "source": [
    "df_ords_prods_merged.to_pickle(os.path.join(pathData, 'Prepared Data', 'df_ords_prods_merged_updated.pkl'))"
   ]
  },
  {
   "cell_type": "code",
   "execution_count": null,
   "id": "25dacd42",
   "metadata": {},
   "outputs": [],
   "source": []
  }
 ],
 "metadata": {
  "kernelspec": {
   "display_name": "Python 3 (ipykernel)",
   "language": "python",
   "name": "python3"
  },
  "language_info": {
   "codemirror_mode": {
    "name": "ipython",
    "version": 3
   },
   "file_extension": ".py",
   "mimetype": "text/x-python",
   "name": "python",
   "nbconvert_exporter": "python",
   "pygments_lexer": "ipython3",
   "version": "3.11.5"
  }
 },
 "nbformat": 4,
 "nbformat_minor": 5
}
